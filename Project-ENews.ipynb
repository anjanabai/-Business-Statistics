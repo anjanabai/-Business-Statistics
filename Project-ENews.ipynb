{
 "cells": [
  {
   "cell_type": "markdown",
   "id": "6yDxo9u0d9Na",
   "metadata": {
    "id": "6yDxo9u0d9Na"
   },
   "source": [
    "# Project Business Statistics: E-news Express\n",
    "\n",
    "**Marks: 60**"
   ]
  },
  {
   "cell_type": "markdown",
   "id": "27303680",
   "metadata": {},
   "source": [
    "## Context\n",
    "\n",
    "An online news portal aims to expand its business by acquiring new subscribers. Every visitor to the website takes certain actions based on their interest. The company plans to analyze these interests and wants to determine whether a new feature will be effective or not. Companies often analyze users' responses to two variants of a product to decide which of the two variants is more effective. This experimental technique is known as a/b testing that is used to determine whether a new feature attracts users based on a chosen metric.\n",
    "\n",
    "## Objective\n",
    "Suppose you are hired as a Data Scientist in E-news Express. The design team of the company has created a new landing page. You have been assigned the task to decide whether the new landing page is more effective to gather new subscribers. Suppose you randomly selected 100 users and divided them equally into two groups. The old landing page is served to the first group (control group) and the new landing page is served to the second group (treatment group). Various data about the customers in both groups are collected in 'abtest.csv'. Perform the statistical analysis to answer the following questions using the collected data.\n",
    "\n",
    "1. Explore the dataset and extract insights using Exploratory Data Analysis.\n",
    "\n",
    "2. Do the users spend more time on the new landing page than the existing landing page?\n",
    "\n",
    "3. Is the conversion rate (the proportion of users who visit the landing page and get converted) for the new page greater than the conversion rate for the old page?\n",
    "\n",
    "4. Does the converted status depend on the preferred language? [Hint: Create a contingency table using the pandas.crosstab() function]\n",
    "\n",
    "5. Is the time spent on the new page same for the different language users?\n",
    "\n",
    "\n",
    "*Consider a significance level of 0.05 for all tests.\n",
    "\n",
    "The  idea  behind  answering  these  questions  is  to  decide  whether  the  new  page  is  effective  enough  to  gather  new subscribers for the news portal. We will perform the statistical analysis on the collected data to make the business decision.\n"
   ]
  },
  {
   "cell_type": "markdown",
   "id": "ff4a21ef",
   "metadata": {},
   "source": [
    "## Data Dictionary\n",
    "\n",
    "1. user_id - This represents the user ID of the person visiting the website.\n",
    "\n",
    "2. group - This represents whether the user belongs to the first group (control) or the second group (treatment).\n",
    "\n",
    "3. landing_page - This represents whether the landing page is new or old.\n",
    "\n",
    "4. time_spent_on_the_page - This represents the time (in minutes) spent by the user on the landing page.\n",
    "\n",
    "5. converted - This represents whether the user gets converted to a subscriber of the news portal or not.\n",
    "\n",
    "6. language_preferred - This represents the language chosen by the user to view the landing page."
   ]
  },
  {
   "cell_type": "code",
   "execution_count": 1,
   "id": "fc6002d3",
   "metadata": {},
   "outputs": [],
   "source": [
    "# Library to suppress warnings or deprecation notes \n",
    "import warnings\n",
    "warnings.filterwarnings('ignore')"
   ]
  },
  {
   "cell_type": "markdown",
   "id": "a6a3d218",
   "metadata": {
    "id": "a6a3d218"
   },
   "source": [
    "## Import all the necessary libraries"
   ]
  },
  {
   "cell_type": "code",
   "execution_count": 2,
   "id": "658c5dec",
   "metadata": {
    "id": "658c5dec"
   },
   "outputs": [],
   "source": [
    "# import the important packages\n",
    "import numpy as np # library used for working with arrays\n",
    "import pandas as pd # library used for data manipulation and analysis\n",
    "from matplotlib import pyplot as plt  # library for plots and visualizations\n",
    "import seaborn as sns # library for visualizations\n",
    "import scipy.stats as stats # this library contains a large number of probability distributions as well as a growing library of statistical functions"
   ]
  },
  {
   "cell_type": "markdown",
   "id": "9d75cfa2",
   "metadata": {
    "id": "9d75cfa2"
   },
   "source": [
    "## 1. Explore the dataset and extract insights using Exploratory Data Analysis. (10 Marks)"
   ]
  },
  {
   "cell_type": "markdown",
   "id": "27201534",
   "metadata": {
    "id": "27201534"
   },
   "source": [
    "### Exploratory Data Analysis - Step by step approach\n",
    "\n",
    "Typical Data exploration activity consists of the following steps:\n",
    "1.\tImporting Data\n",
    "2.\tVariable Identification\n",
    "3.  Variable Transformation/Feature Creation\n",
    "4.  Missing value detection\n",
    "5.\tUnivariate Analysis\n",
    "6.\tBivariate Analysis"
   ]
  },
  {
   "cell_type": "markdown",
   "id": "6970dd99",
   "metadata": {
    "id": "6970dd99"
   },
   "source": [
    "### Reading the Data into a DataFrame"
   ]
  },
  {
   "cell_type": "code",
   "execution_count": 3,
   "id": "d3b95640",
   "metadata": {
    "id": "d3b95640"
   },
   "outputs": [],
   "source": [
    "## Reading a dataset from a csv file using pandas.\n",
    "df = pd.read_csv('abtest.csv')\n",
    "\n"
   ]
  },
  {
   "cell_type": "code",
   "execution_count": 4,
   "id": "e1ad11d4",
   "metadata": {
    "id": "e1ad11d4"
   },
   "outputs": [
    {
     "data": {
      "text/html": [
       "<div>\n",
       "<style scoped>\n",
       "    .dataframe tbody tr th:only-of-type {\n",
       "        vertical-align: middle;\n",
       "    }\n",
       "\n",
       "    .dataframe tbody tr th {\n",
       "        vertical-align: top;\n",
       "    }\n",
       "\n",
       "    .dataframe thead th {\n",
       "        text-align: right;\n",
       "    }\n",
       "</style>\n",
       "<table border=\"1\" class=\"dataframe\">\n",
       "  <thead>\n",
       "    <tr style=\"text-align: right;\">\n",
       "      <th></th>\n",
       "      <th>user_id</th>\n",
       "      <th>group</th>\n",
       "      <th>landing_page</th>\n",
       "      <th>time_spent_on_the_page</th>\n",
       "      <th>converted</th>\n",
       "      <th>language_preferred</th>\n",
       "    </tr>\n",
       "  </thead>\n",
       "  <tbody>\n",
       "    <tr>\n",
       "      <th>0</th>\n",
       "      <td>546592</td>\n",
       "      <td>control</td>\n",
       "      <td>old</td>\n",
       "      <td>3.48</td>\n",
       "      <td>no</td>\n",
       "      <td>Spanish</td>\n",
       "    </tr>\n",
       "    <tr>\n",
       "      <th>1</th>\n",
       "      <td>546468</td>\n",
       "      <td>treatment</td>\n",
       "      <td>new</td>\n",
       "      <td>7.13</td>\n",
       "      <td>yes</td>\n",
       "      <td>English</td>\n",
       "    </tr>\n",
       "    <tr>\n",
       "      <th>2</th>\n",
       "      <td>546462</td>\n",
       "      <td>treatment</td>\n",
       "      <td>new</td>\n",
       "      <td>4.40</td>\n",
       "      <td>no</td>\n",
       "      <td>Spanish</td>\n",
       "    </tr>\n",
       "    <tr>\n",
       "      <th>3</th>\n",
       "      <td>546567</td>\n",
       "      <td>control</td>\n",
       "      <td>old</td>\n",
       "      <td>3.02</td>\n",
       "      <td>no</td>\n",
       "      <td>French</td>\n",
       "    </tr>\n",
       "    <tr>\n",
       "      <th>4</th>\n",
       "      <td>546459</td>\n",
       "      <td>treatment</td>\n",
       "      <td>new</td>\n",
       "      <td>4.75</td>\n",
       "      <td>yes</td>\n",
       "      <td>Spanish</td>\n",
       "    </tr>\n",
       "  </tbody>\n",
       "</table>\n",
       "</div>"
      ],
      "text/plain": [
       "   user_id      group landing_page  time_spent_on_the_page converted  \\\n",
       "0   546592    control          old                    3.48        no   \n",
       "1   546468  treatment          new                    7.13       yes   \n",
       "2   546462  treatment          new                    4.40        no   \n",
       "3   546567    control          old                    3.02        no   \n",
       "4   546459  treatment          new                    4.75       yes   \n",
       "\n",
       "  language_preferred  \n",
       "0            Spanish  \n",
       "1            English  \n",
       "2            Spanish  \n",
       "3             French  \n",
       "4            Spanish  "
      ]
     },
     "execution_count": 4,
     "metadata": {},
     "output_type": "execute_result"
    }
   ],
   "source": [
    "# looking at head (5 observations)\n",
    "df.head()"
   ]
  },
  {
   "cell_type": "markdown",
   "id": "b238c20c",
   "metadata": {},
   "source": [
    "#### Observations:\n",
    "\n",
    "* The DataFrame contains 6 columns.\n",
    "* Data in each row corresponds to the user id of the person visiting the website.\n",
    "* Group column contains the information about the user group (control) or (treatment).\n",
    "* Landing page column represents whether the landing page is new or old.\n",
    "* Time spent on the page column represents the time (in minutes) spent by the user on the landing page.\n",
    "* Converted column represents whether the user gets converted to a subscriber of the news portal or not.\n",
    "* Language preferred column represents the language chosen by the user to view the landing page."
   ]
  },
  {
   "cell_type": "code",
   "execution_count": 5,
   "id": "3a8dd790",
   "metadata": {},
   "outputs": [
    {
     "data": {
      "text/html": [
       "<div>\n",
       "<style scoped>\n",
       "    .dataframe tbody tr th:only-of-type {\n",
       "        vertical-align: middle;\n",
       "    }\n",
       "\n",
       "    .dataframe tbody tr th {\n",
       "        vertical-align: top;\n",
       "    }\n",
       "\n",
       "    .dataframe thead th {\n",
       "        text-align: right;\n",
       "    }\n",
       "</style>\n",
       "<table border=\"1\" class=\"dataframe\">\n",
       "  <thead>\n",
       "    <tr style=\"text-align: right;\">\n",
       "      <th></th>\n",
       "      <th>user_id</th>\n",
       "      <th>group</th>\n",
       "      <th>landing_page</th>\n",
       "      <th>time_spent_on_the_page</th>\n",
       "      <th>converted</th>\n",
       "      <th>language_preferred</th>\n",
       "    </tr>\n",
       "  </thead>\n",
       "  <tbody>\n",
       "    <tr>\n",
       "      <th>95</th>\n",
       "      <td>546446</td>\n",
       "      <td>treatment</td>\n",
       "      <td>new</td>\n",
       "      <td>5.15</td>\n",
       "      <td>no</td>\n",
       "      <td>Spanish</td>\n",
       "    </tr>\n",
       "    <tr>\n",
       "      <th>96</th>\n",
       "      <td>546544</td>\n",
       "      <td>control</td>\n",
       "      <td>old</td>\n",
       "      <td>6.52</td>\n",
       "      <td>yes</td>\n",
       "      <td>English</td>\n",
       "    </tr>\n",
       "    <tr>\n",
       "      <th>97</th>\n",
       "      <td>546472</td>\n",
       "      <td>treatment</td>\n",
       "      <td>new</td>\n",
       "      <td>7.07</td>\n",
       "      <td>yes</td>\n",
       "      <td>Spanish</td>\n",
       "    </tr>\n",
       "    <tr>\n",
       "      <th>98</th>\n",
       "      <td>546481</td>\n",
       "      <td>treatment</td>\n",
       "      <td>new</td>\n",
       "      <td>6.20</td>\n",
       "      <td>yes</td>\n",
       "      <td>Spanish</td>\n",
       "    </tr>\n",
       "    <tr>\n",
       "      <th>99</th>\n",
       "      <td>546483</td>\n",
       "      <td>treatment</td>\n",
       "      <td>new</td>\n",
       "      <td>5.86</td>\n",
       "      <td>yes</td>\n",
       "      <td>English</td>\n",
       "    </tr>\n",
       "  </tbody>\n",
       "</table>\n",
       "</div>"
      ],
      "text/plain": [
       "    user_id      group landing_page  time_spent_on_the_page converted  \\\n",
       "95   546446  treatment          new                    5.15        no   \n",
       "96   546544    control          old                    6.52       yes   \n",
       "97   546472  treatment          new                    7.07       yes   \n",
       "98   546481  treatment          new                    6.20       yes   \n",
       "99   546483  treatment          new                    5.86       yes   \n",
       "\n",
       "   language_preferred  \n",
       "95            Spanish  \n",
       "96            English  \n",
       "97            Spanish  \n",
       "98            Spanish  \n",
       "99            English  "
      ]
     },
     "execution_count": 5,
     "metadata": {},
     "output_type": "execute_result"
    }
   ],
   "source": [
    "# looking at tail (5 observations) \n",
    "df.tail()"
   ]
  },
  {
   "cell_type": "code",
   "execution_count": 6,
   "id": "b3a21e37",
   "metadata": {},
   "outputs": [
    {
     "data": {
      "text/plain": [
       "(100, 6)"
      ]
     },
     "execution_count": 6,
     "metadata": {},
     "output_type": "execute_result"
    }
   ],
   "source": [
    "#df.shape returns the number of rows and columns of the dataframe\n",
    "df.shape"
   ]
  },
  {
   "cell_type": "markdown",
   "id": "a4f41ccb",
   "metadata": {},
   "source": [
    "#### Observations: \n",
    "*  The dataset has 100 rows and 6 columns."
   ]
  },
  {
   "cell_type": "code",
   "execution_count": 7,
   "id": "ffe6b2e2",
   "metadata": {},
   "outputs": [
    {
     "data": {
      "text/plain": [
       "user_id                   0\n",
       "group                     0\n",
       "landing_page              0\n",
       "time_spent_on_the_page    0\n",
       "converted                 0\n",
       "language_preferred        0\n",
       "dtype: int64"
      ]
     },
     "execution_count": 7,
     "metadata": {},
     "output_type": "execute_result"
    }
   ],
   "source": [
    "#function isnull()is used to check the missing values\n",
    "df.isnull().sum()"
   ]
  },
  {
   "cell_type": "markdown",
   "id": "06570cde",
   "metadata": {},
   "source": [
    "#### Observations: \n",
    "*  The dataset does not contain any missing values."
   ]
  },
  {
   "cell_type": "code",
   "execution_count": 8,
   "id": "499665aa",
   "metadata": {},
   "outputs": [
    {
     "name": "stdout",
     "output_type": "stream",
     "text": [
      "<class 'pandas.core.frame.DataFrame'>\n",
      "RangeIndex: 100 entries, 0 to 99\n",
      "Data columns (total 6 columns):\n",
      " #   Column                  Non-Null Count  Dtype  \n",
      "---  ------                  --------------  -----  \n",
      " 0   user_id                 100 non-null    int64  \n",
      " 1   group                   100 non-null    object \n",
      " 2   landing_page            100 non-null    object \n",
      " 3   time_spent_on_the_page  100 non-null    float64\n",
      " 4   converted               100 non-null    object \n",
      " 5   language_preferred      100 non-null    object \n",
      "dtypes: float64(1), int64(1), object(4)\n",
      "memory usage: 4.8+ KB\n"
     ]
    }
   ],
   "source": [
    "# info() is used to print a concise summary of the DataFrame\n",
    "df.info()"
   ]
  },
  {
   "cell_type": "markdown",
   "id": "f7396f82",
   "metadata": {},
   "source": [
    "#### Observations: \n",
    "* The datatypes of the different columns in the dataset are int(1 no), float(1 no), object(4 nos).\n",
    "* user_id ,time_spent_on_the_page are numerical.\n",
    "* group, landing page, converted and language prefered are categorial."
   ]
  },
  {
   "cell_type": "code",
   "execution_count": 9,
   "id": "2404b4d9",
   "metadata": {},
   "outputs": [
    {
     "name": "stdout",
     "output_type": "stream",
     "text": [
      "<class 'pandas.core.frame.DataFrame'>\n",
      "RangeIndex: 100 entries, 0 to 99\n",
      "Data columns (total 6 columns):\n",
      " #   Column                  Non-Null Count  Dtype   \n",
      "---  ------                  --------------  -----   \n",
      " 0   user_id                 100 non-null    int64   \n",
      " 1   group                   100 non-null    category\n",
      " 2   landing_page            100 non-null    category\n",
      " 3   time_spent_on_the_page  100 non-null    float64 \n",
      " 4   converted               100 non-null    category\n",
      " 5   language_preferred      100 non-null    category\n",
      "dtypes: category(4), float64(1), int64(1)\n",
      "memory usage: 2.6 KB\n"
     ]
    }
   ],
   "source": [
    "# Fixing the data types\n",
    "#df.astype() function convert the data type of an existing column in a dataframe\n",
    "# converts group from object to category\n",
    "df.group = df.group.astype('category')\n",
    "\n",
    "# Converts landing_page from object to category\n",
    "df.landing_page = df.landing_page.astype('category')\n",
    "\n",
    "# Convert \"converted\" from object to category\n",
    "df.converted = df.converted.astype('category')  \n",
    "\n",
    "# Convert language_preferred from object to category\n",
    "df.language_preferred = df.language_preferred.astype('category') \n",
    "\n",
    "# df.info()function returns  information about the dataframe including the data types of each column and memory usage\n",
    "df.info()"
   ]
  },
  {
   "cell_type": "markdown",
   "id": "f477b07e",
   "metadata": {},
   "source": [
    "#### Observations:\n",
    "* Converting 'group', 'landing_page', 'converted' 'language_preferred' from object type attributes to  'category' type results in reduced memory usage. \n",
    "* Memory usage reduced from 4.8+ KB to 2.6 KB."
   ]
  },
  {
   "cell_type": "code",
   "execution_count": 10,
   "id": "7db007be",
   "metadata": {},
   "outputs": [
    {
     "data": {
      "text/html": [
       "<div>\n",
       "<style scoped>\n",
       "    .dataframe tbody tr th:only-of-type {\n",
       "        vertical-align: middle;\n",
       "    }\n",
       "\n",
       "    .dataframe tbody tr th {\n",
       "        vertical-align: top;\n",
       "    }\n",
       "\n",
       "    .dataframe thead th {\n",
       "        text-align: right;\n",
       "    }\n",
       "</style>\n",
       "<table border=\"1\" class=\"dataframe\">\n",
       "  <thead>\n",
       "    <tr style=\"text-align: right;\">\n",
       "      <th></th>\n",
       "      <th>user_id</th>\n",
       "      <th>time_spent_on_the_page</th>\n",
       "    </tr>\n",
       "  </thead>\n",
       "  <tbody>\n",
       "    <tr>\n",
       "      <th>count</th>\n",
       "      <td>100.000000</td>\n",
       "      <td>100.000000</td>\n",
       "    </tr>\n",
       "    <tr>\n",
       "      <th>mean</th>\n",
       "      <td>546517.000000</td>\n",
       "      <td>5.377800</td>\n",
       "    </tr>\n",
       "    <tr>\n",
       "      <th>std</th>\n",
       "      <td>52.295779</td>\n",
       "      <td>2.378166</td>\n",
       "    </tr>\n",
       "    <tr>\n",
       "      <th>min</th>\n",
       "      <td>546443.000000</td>\n",
       "      <td>0.190000</td>\n",
       "    </tr>\n",
       "    <tr>\n",
       "      <th>25%</th>\n",
       "      <td>546467.750000</td>\n",
       "      <td>3.880000</td>\n",
       "    </tr>\n",
       "    <tr>\n",
       "      <th>50%</th>\n",
       "      <td>546492.500000</td>\n",
       "      <td>5.415000</td>\n",
       "    </tr>\n",
       "    <tr>\n",
       "      <th>75%</th>\n",
       "      <td>546567.250000</td>\n",
       "      <td>7.022500</td>\n",
       "    </tr>\n",
       "    <tr>\n",
       "      <th>max</th>\n",
       "      <td>546592.000000</td>\n",
       "      <td>10.710000</td>\n",
       "    </tr>\n",
       "  </tbody>\n",
       "</table>\n",
       "</div>"
      ],
      "text/plain": [
       "             user_id  time_spent_on_the_page\n",
       "count     100.000000              100.000000\n",
       "mean   546517.000000                5.377800\n",
       "std        52.295779                2.378166\n",
       "min    546443.000000                0.190000\n",
       "25%    546467.750000                3.880000\n",
       "50%    546492.500000                5.415000\n",
       "75%    546567.250000                7.022500\n",
       "max    546592.000000               10.710000"
      ]
     },
     "execution_count": 10,
     "metadata": {},
     "output_type": "execute_result"
    }
   ],
   "source": [
    "#df.describe function returns the statistical data like percentile, mean, etc of the datafram\n",
    "df.describe()"
   ]
  },
  {
   "cell_type": "markdown",
   "id": "4fb803b1",
   "metadata": {},
   "source": [
    "#### Observations:\n",
    "* Minimum time spent on the page is 19 sec.\n",
    "* Average time spent on the page is 5 minutes.\n",
    "* Maximum time spent on the page is 11 minutes.\n",
    "* Mean and median time_spent_on_the_page are almost equal.So negligible skewness.\n",
    "\n",
    "\n"
   ]
  },
  {
   "cell_type": "code",
   "execution_count": 11,
   "id": "bd6fc434",
   "metadata": {},
   "outputs": [
    {
     "data": {
      "text/plain": [
       "control      50\n",
       "treatment    50\n",
       "Name: group, dtype: int64"
      ]
     },
     "execution_count": 11,
     "metadata": {},
     "output_type": "execute_result"
    }
   ],
   "source": [
    "# Check for missing values in group\n",
    "#The df.value_counts( )returns a Series containing the counts of unique values\n",
    "df['group'].value_counts()"
   ]
  },
  {
   "cell_type": "markdown",
   "id": "11d3d8c7",
   "metadata": {},
   "source": [
    "#### Observations:\n",
    "* There are 2 groups. Control and Treatment. There are 50 users in each group, so no missing values.\n"
   ]
  },
  {
   "cell_type": "code",
   "execution_count": 12,
   "id": "626befd3",
   "metadata": {},
   "outputs": [
    {
     "data": {
      "text/plain": [
       "new    50\n",
       "old    50\n",
       "Name: landing_page, dtype: int64"
      ]
     },
     "execution_count": 12,
     "metadata": {},
     "output_type": "execute_result"
    }
   ],
   "source": [
    "# Check for missing values in landing_page\n",
    "#The df.value_counts( )returns a Series containing the counts of unique values\n",
    "df['landing_page'].value_counts()"
   ]
  },
  {
   "cell_type": "markdown",
   "id": "4f6d9c14",
   "metadata": {},
   "source": [
    "#### Observations:\n",
    "* There are 2 landing pages. New and Old. \n",
    "* No missing values."
   ]
  },
  {
   "cell_type": "code",
   "execution_count": 13,
   "id": "dd9b5223",
   "metadata": {},
   "outputs": [
    {
     "data": {
      "text/plain": [
       "yes    54\n",
       "no     46\n",
       "Name: converted, dtype: int64"
      ]
     },
     "execution_count": 13,
     "metadata": {},
     "output_type": "execute_result"
    }
   ],
   "source": [
    "# Check for missing values in converted\n",
    "#The df.value_counts( )returns a Series containing the counts of unique values\n",
    "df['converted'].value_counts()  "
   ]
  },
  {
   "cell_type": "markdown",
   "id": "eb004d75",
   "metadata": {},
   "source": [
    "#### Observations:\n",
    "* 54 users get converted to a subscriber of the news portal. 46  users didn't get converted to a subscriber of the news portal.\n",
    "* No missing values."
   ]
  },
  {
   "cell_type": "code",
   "execution_count": 14,
   "id": "663163fb",
   "metadata": {},
   "outputs": [
    {
     "data": {
      "text/plain": [
       "French     34\n",
       "Spanish    34\n",
       "English    32\n",
       "Name: language_preferred, dtype: int64"
      ]
     },
     "execution_count": 14,
     "metadata": {},
     "output_type": "execute_result"
    }
   ],
   "source": [
    "# Check for missing values in language_preferred\n",
    "#The df.value_counts( )returns a Series containing the counts of unique values\n",
    "df['language_preferred'].value_counts()"
   ]
  },
  {
   "cell_type": "markdown",
   "id": "236b32e3",
   "metadata": {},
   "source": [
    "#### Observations:\n",
    "* 3 unique languages are chosen by the users (French-34, Spanish-34, English-32).\n",
    "* No missing values.\n"
   ]
  },
  {
   "cell_type": "markdown",
   "id": "68f3b2c9",
   "metadata": {
    "id": "68f3b2c9"
   },
   "source": [
    "### Univariate Analysis"
   ]
  },
  {
   "cell_type": "code",
   "execution_count": 15,
   "id": "1932d0f3",
   "metadata": {
    "id": "1932d0f3"
   },
   "outputs": [],
   "source": [
    "# function to plot a boxplot and a histogram along the same scale.\n",
    "\n",
    "\n",
    "def histogram_boxplot(data, feature, figsize=(12, 7), kde=False, bins=None):\n",
    "    \"\"\"\n",
    "    Boxplot and histogram combined\n",
    "\n",
    "    data: dataframe\n",
    "    feature: dataframe column\n",
    "    figsize: size of figure (default (12,7))\n",
    "    kde: whether to show the density curve (default False)\n",
    "    bins: number of bins for histogram (default None)\n",
    "    \"\"\"\n",
    "    f2, (ax_box2, ax_hist2) = plt.subplots(\n",
    "        nrows=2,  # Number of rows of the subplot grid= 2\n",
    "        sharex=True,  # x-axis will be shared among all subplots\n",
    "        gridspec_kw={\"height_ratios\": (0.25, 0.75)},\n",
    "        figsize=figsize,\n",
    "    )  # creating the 2 subplots\n",
    "    sns.boxplot(\n",
    "        data=data, x=feature, ax=ax_box2, showmeans=True, color=\"violet\"\n",
    "    )  # boxplot will be created and a star will indicate the mean value of the column\n",
    "    sns.histplot(\n",
    "        data=data, x=feature, kde=kde, ax=ax_hist2, bins=bins, palette=\"winter\"\n",
    "    ) if bins else sns.histplot(\n",
    "        data=data, x=feature, kde=kde, ax=ax_hist2\n",
    "    )  # For histogram\n",
    "    ax_hist2.axvline(\n",
    "        data[feature].mean(), color=\"green\", linestyle=\"--\"\n",
    "    )  # Add mean to the histogram\n",
    "    ax_hist2.axvline(\n",
    "        data[feature].median(), color=\"black\", linestyle=\"-\"\n",
    "    )  # Add median to the histogram"
   ]
  },
  {
   "cell_type": "code",
   "execution_count": 16,
   "id": "2fce6350",
   "metadata": {
    "id": "2fce6350"
   },
   "outputs": [],
   "source": [
    "# function to create labeled barplots\n",
    "\n",
    "\n",
    "def labeled_barplot(data, feature, perc=False, n=None):\n",
    "    \"\"\"\n",
    "    Barplot with percentage at the top\n",
    "\n",
    "    data: dataframe\n",
    "    feature: dataframe column\n",
    "    perc: whether to display percentages instead of count (default is False)\n",
    "    n: displays the top n category levels (default is None, i.e., display all levels)\n",
    "    \"\"\"\n",
    "\n",
    "    total = len(data[feature])  # length of the column\n",
    "    count = data[feature].nunique()\n",
    "    if n is None:\n",
    "        plt.figure(figsize=(count + 1, 5))\n",
    "    else:\n",
    "        plt.figure(figsize=(n + 1, 5))\n",
    "\n",
    "    plt.xticks(rotation=90, fontsize=15)\n",
    "    ax = sns.countplot(data=data, x=feature, palette=\"Paired\", order=data[feature].value_counts().index[:n].sort_values())\n",
    "\n",
    "    for p in ax.patches:\n",
    "        if perc == True:\n",
    "            label = \"{:.1f}%\".format(100 * p.get_height() / total)  # percentage of each class of the category\n",
    "        else:\n",
    "            label = p.get_height()  # count of each level of the category\n",
    "\n",
    "        x = p.get_x() + p.get_width() / 2  # width of the plot\n",
    "        y = p.get_height()      # height of the plot\n",
    "\n",
    "        ax.annotate(label, (x, y), ha=\"center\", va=\"center\", size=12, xytext=(0, 5), textcoords=\"offset points\")  # annotate the percentage\n",
    "\n",
    "    plt.show()  # show the plot"
   ]
  },
  {
   "cell_type": "markdown",
   "id": "e8efce43",
   "metadata": {},
   "source": [
    "### Observations on Time spent on the page"
   ]
  },
  {
   "cell_type": "code",
   "execution_count": 17,
   "id": "e6f99481",
   "metadata": {
    "id": "e6f99481"
   },
   "outputs": [
    {
     "data": {
      "image/png": "[encoded data removed]",
      "text/plain": [
       "<Figure size 864x504 with 2 Axes>"
      ]
     },
     "metadata": {
      "needs_background": "light"
     },
     "output_type": "display_data"
    }
   ],
   "source": [
    "\n",
    "# histogram for time_spent_on_the_page.\n",
    "#the data is numeric \n",
    "#no outliers\n",
    "histogram_boxplot(df, 'time_spent_on_the_page')"
   ]
  },
  {
   "cell_type": "markdown",
   "id": "372f3cc4",
   "metadata": {},
   "source": [
    "#### Observations:\n",
    "* Mean and median are very close. Its around 5 minute.\n",
    "* time_spent_on_the_page does not have any outliers."
   ]
  },
  {
   "cell_type": "markdown",
   "id": "a2570583",
   "metadata": {},
   "source": [
    "### Observations on Time spent on the old landing page"
   ]
  },
  {
   "cell_type": "code",
   "execution_count": 18,
   "id": "2d569914",
   "metadata": {},
   "outputs": [],
   "source": [
    "df_old=df[df[\"landing_page\"]==\"old\"]"
   ]
  },
  {
   "cell_type": "code",
   "execution_count": 19,
   "id": "8b3b3488",
   "metadata": {},
   "outputs": [
    {
     "data": {
      "image/png": "[encoded data removed]",
      "text/plain": [
       "<Figure size 864x504 with 2 Axes>"
      ]
     },
     "metadata": {
      "needs_background": "light"
     },
     "output_type": "display_data"
    }
   ],
   "source": [
    "# histogram for time spent on old landing page\n",
    "histogram_boxplot(df_old,'time_spent_on_the_page')"
   ]
  },
  {
   "cell_type": "markdown",
   "id": "d2eed080",
   "metadata": {},
   "source": [
    "### Observations on Time spent on the new landing page"
   ]
  },
  {
   "cell_type": "code",
   "execution_count": 20,
   "id": "1244e095",
   "metadata": {},
   "outputs": [],
   "source": [
    "df_new=df[df[\"landing_page\"]==\"new\"]"
   ]
  },
  {
   "cell_type": "code",
   "execution_count": 21,
   "id": "1a41feb9",
   "metadata": {},
   "outputs": [
    {
     "data": {
      "image/png": "[encoded data removed]",
      "text/plain": [
       "<Figure size 864x504 with 2 Axes>"
      ]
     },
     "metadata": {
      "needs_background": "light"
     },
     "output_type": "display_data"
    }
   ],
   "source": [
    "# histogram for time spent on new landing page.\n",
    "histogram_boxplot(df_new,'time_spent_on_the_page')"
   ]
  },
  {
   "cell_type": "markdown",
   "id": "21dd35de",
   "metadata": {},
   "source": [
    "### Comparison on new landing page vs old landing page."
   ]
  },
  {
   "cell_type": "markdown",
   "id": "f512a3fc",
   "metadata": {},
   "source": [
    "#### Observations:\n",
    "* Time spend on new landing page follows more normal distribution than time spent on old landing page.\n",
    "* Average time spent on the new landing page is higher than old landing page.\n",
    "* Data of the Time spent on the new landing page follow normal distribution."
   ]
  },
  {
   "cell_type": "markdown",
   "id": "b1839e2d",
   "metadata": {},
   "source": [
    "### Observations on group"
   ]
  },
  {
   "cell_type": "code",
   "execution_count": 22,
   "id": "c3fc6224",
   "metadata": {},
   "outputs": [
    {
     "data": {
      "image/png": "[encoded data removed]",
      "text/plain": [
       "<Figure size 432x288 with 1 Axes>"
      ]
     },
     "metadata": {
      "needs_background": "light"
     },
     "output_type": "display_data"
    }
   ],
   "source": [
    "\n",
    "sns.countplot(data=df,x='group');"
   ]
  },
  {
   "cell_type": "markdown",
   "id": "36815e3d",
   "metadata": {},
   "source": [
    "#### Observations:\n",
    "* There are 2 groups. \n",
    "* Control and Treatment. \n",
    "* There are equal number of  users in each groups.\n"
   ]
  },
  {
   "cell_type": "markdown",
   "id": "24ade837",
   "metadata": {},
   "source": [
    "### Observations on landing page"
   ]
  },
  {
   "cell_type": "code",
   "execution_count": 23,
   "id": "2e45da99",
   "metadata": {},
   "outputs": [
    {
     "data": {
      "image/png": "[encoded data removed]",
      "text/plain": [
       "<Figure size 432x288 with 1 Axes>"
      ]
     },
     "metadata": {
      "needs_background": "light"
     },
     "output_type": "display_data"
    }
   ],
   "source": [
    "## countplot for landing page\n",
    "sns.countplot(data = df, x ='landing_page');"
   ]
  },
  {
   "cell_type": "markdown",
   "id": "674b2a38",
   "metadata": {},
   "source": [
    "#### Observations:\n",
    "* There are 2 landing pages. New and Old. \n",
    "* No missing values."
   ]
  },
  {
   "cell_type": "markdown",
   "id": "26b7f603",
   "metadata": {},
   "source": [
    "### Observations on converted users"
   ]
  },
  {
   "cell_type": "code",
   "execution_count": 24,
   "id": "b2b20ff6",
   "metadata": {},
   "outputs": [
    {
     "data": {
      "image/png": "[encoded data removed]",
      "text/plain": [
       "<Figure size 432x288 with 1 Axes>"
      ]
     },
     "metadata": {
      "needs_background": "light"
     },
     "output_type": "display_data"
    }
   ],
   "source": [
    "#countplot for converted\n",
    "sns.countplot(data = df, x ='converted');"
   ]
  },
  {
   "cell_type": "markdown",
   "id": "497a4b47",
   "metadata": {},
   "source": [
    "#### Observations:\n",
    "* Number of  users get converted to a subscriber of the news portal is more."
   ]
  },
  {
   "cell_type": "markdown",
   "id": "96921131",
   "metadata": {},
   "source": [
    "### Observations on language preference of users"
   ]
  },
  {
   "cell_type": "code",
   "execution_count": 25,
   "id": "56f09e02",
   "metadata": {},
   "outputs": [
    {
     "data": {
      "image/png": "[encoded data removed]",
      "text/plain": [
       "<Figure size 432x288 with 1 Axes>"
      ]
     },
     "metadata": {
      "needs_background": "light"
     },
     "output_type": "display_data"
    }
   ],
   "source": [
    "#countplot for language prefered\n",
    "sns.countplot(data = df, x ='language_preferred');"
   ]
  },
  {
   "cell_type": "markdown",
   "id": "fc894caa",
   "metadata": {},
   "source": [
    "#### Observations:\n",
    "* Most prefered languages of users are French and Spanish.\n",
    "* Number of users that prefer English, French and Spanish are very close."
   ]
  },
  {
   "cell_type": "markdown",
   "id": "fad2de2f",
   "metadata": {
    "id": "fad2de2f"
   },
   "source": [
    "### Bivariate Analysis"
   ]
  },
  {
   "cell_type": "markdown",
   "id": "c995a34a",
   "metadata": {},
   "source": [
    "### Observations on Conversion rate : (Landing page vs Converted) \n"
   ]
  },
  {
   "cell_type": "code",
   "execution_count": 26,
   "id": "47668a8b",
   "metadata": {},
   "outputs": [
    {
     "data": {
      "image/png": "[encoded data removed]",
      "text/plain": [
       "<Figure size 288x288 with 1 Axes>"
      ]
     },
     "metadata": {
      "needs_background": "light"
     },
     "output_type": "display_data"
    }
   ],
   "source": [
    "## countplot for converted vs landing page\n",
    "plt.figure(figsize=(4, 4))\n",
    "\n",
    "sns.countplot(data = df, x ='converted',hue=\"landing_page\");\n",
    "plt.show()"
   ]
  },
  {
   "cell_type": "markdown",
   "id": "4b587a40",
   "metadata": {},
   "source": [
    "#### Observations:\n",
    "* Conversion rate is higher for new landing page than old landing page."
   ]
  },
  {
   "cell_type": "markdown",
   "id": "eae3cf38",
   "metadata": {},
   "source": [
    "### Observation on conversion rate, preferred language and landing pages "
   ]
  },
  {
   "cell_type": "code",
   "execution_count": 27,
   "id": "b2342854",
   "metadata": {},
   "outputs": [
    {
     "data": {
      "image/png": "[encoded data removed]",
      "text/plain": [
       "<Figure size 288x288 with 1 Axes>"
      ]
     },
     "metadata": {
      "needs_background": "light"
     },
     "output_type": "display_data"
    }
   ],
   "source": [
    "#countplot for language prefered vs converted\n",
    "plt.figure(figsize=(4, 4))\n",
    "\n",
    "sns.countplot(data = df.sort_values('language_preferred'), x ='language_preferred',hue= \"converted\");\n",
    "plt.show()"
   ]
  },
  {
   "cell_type": "markdown",
   "id": "1dbf5539",
   "metadata": {},
   "source": [
    "#### Observations:\n",
    "* Number of users that prefer English, French and Spanish are very close."
   ]
  },
  {
   "cell_type": "markdown",
   "id": "ebb972a8",
   "metadata": {},
   "source": [
    "### Observation on conversion rate-old landing page, preferred language and landing pages "
   ]
  },
  {
   "cell_type": "code",
   "execution_count": 28,
   "id": "be25e9ea",
   "metadata": {},
   "outputs": [
    {
     "data": {
      "image/png": "[encoded data removed]",
      "text/plain": [
       "<Figure size 288x288 with 1 Axes>"
      ]
     },
     "metadata": {
      "needs_background": "light"
     },
     "output_type": "display_data"
    }
   ],
   "source": [
    "#countplot for language prefered (old) vs converted\n",
    "plt.figure(figsize=(4, 4))\n",
    "\n",
    "sns.countplot(data = df_old.sort_values('language_preferred'), x ='language_preferred',hue= \"converted\");\n",
    "plt.show()"
   ]
  },
  {
   "cell_type": "markdown",
   "id": "7a8f9986",
   "metadata": {},
   "source": [
    "### Observation on conversion rate-new landing page, preferred language and landing pages"
   ]
  },
  {
   "cell_type": "code",
   "execution_count": 29,
   "id": "7040f047",
   "metadata": {},
   "outputs": [
    {
     "data": {
      "image/png": "[encoded data removed]",
      "text/plain": [
       "<Figure size 288x288 with 1 Axes>"
      ]
     },
     "metadata": {
      "needs_background": "light"
     },
     "output_type": "display_data"
    }
   ],
   "source": [
    "## countplot for language prefered (new) vs converted\n",
    "plt.figure(figsize=(4, 4))\n",
    "\n",
    "sns.countplot(data = df_new.sort_values('language_preferred'), x ='language_preferred',hue= \"converted\");\n",
    "plt.show()"
   ]
  },
  {
   "cell_type": "markdown",
   "id": "930b945d",
   "metadata": {},
   "source": [
    "#### Observations : Comparison of the above two graphs\n",
    "* Change in conversion for new landing page vs old landing page is less for English. \n",
    "* Conversion for new landing page vs old is more for French.\n",
    "* Conversion for new landing page vs old is more for Spanish.\n",
    "* There is more French users in conversion on the new landing page."
   ]
  },
  {
   "cell_type": "markdown",
   "id": "4137dbfe",
   "metadata": {},
   "source": [
    "### Observation on language_prefered vs landing_page vs time spent on the landing page"
   ]
  },
  {
   "cell_type": "code",
   "execution_count": 30,
   "id": "6d59cb78",
   "metadata": {},
   "outputs": [
    {
     "data": {
      "image/png": "[encoded data removed]",
      "text/plain": [
       "<Figure size 720x432 with 1 Axes>"
      ]
     },
     "metadata": {
      "needs_background": "light"
     },
     "output_type": "display_data"
    },
    {
     "data": {
      "image/png": "[encoded data removed]",
      "text/plain": [
       "<Figure size 432x288 with 1 Axes>"
      ]
     },
     "metadata": {
      "needs_background": "light"
     },
     "output_type": "display_data"
    },
    {
     "name": "stdout",
     "output_type": "stream",
     "text": [
      "Avg time spent on the new landing page by preferred language:\n",
      "language_preferred\n",
      "English    6.663750\n",
      "French     6.196471\n",
      "Spanish    5.835294\n",
      "Name: time_spent_on_the_page, dtype: float64\n"
     ]
    }
   ],
   "source": [
    "# stripplot and box plot\n",
    "\n",
    "fig,ax = plt.subplots(figsize=(10,6\n",
    "                              ))\n",
    "sns.stripplot(data = df.sort_values('language_preferred'), x ='language_preferred',y=\"time_spent_on_the_page\",hue= \"landing_page\");\n",
    "plt.show()\n",
    "sns.boxplot(data = df.sort_values('language_preferred'), x ='language_preferred',y=\"time_spent_on_the_page\",hue= \"landing_page\");\n",
    "plt.show()\n",
    "print(\"Avg time spent on the new landing page by preferred language:\")\n",
    "print(df_new.groupby(\"language_preferred\").mean()[\"time_spent_on_the_page\"])"
   ]
  },
  {
   "cell_type": "markdown",
   "id": "4246321f",
   "metadata": {},
   "source": [
    "#### Observations on  language_prefered vs landing_page vs time spent on the landing page\n",
    "* Irrespective of language, the  mean time spent on the new landing page is more than old landing page for all users.\n",
    "* Avg time spent on the new landing page by preferred language: English(6.6 min), French (6.19min), Spanish (5.83min).\n"
   ]
  },
  {
   "cell_type": "markdown",
   "id": "9df6bc8f",
   "metadata": {},
   "source": [
    "### Observation on time spent on the page vs landing page "
   ]
  },
  {
   "cell_type": "code",
   "execution_count": 31,
   "id": "df957b52",
   "metadata": {},
   "outputs": [
    {
     "data": {
      "image/png": "[encoded data removed]",
      "text/plain": [
       "<Figure size 648x648 with 1 Axes>"
      ]
     },
     "metadata": {
      "needs_background": "light"
     },
     "output_type": "display_data"
    }
   ],
   "source": [
    "#histplot\n",
    "plt.figure(figsize=(9, 9))\n",
    "sns.histplot(data = df, x = 'time_spent_on_the_page', hue = 'landing_page')\n",
    "plt.show()"
   ]
  },
  {
   "cell_type": "markdown",
   "id": "afe1dfd7",
   "metadata": {},
   "source": [
    "#### Observations: \n",
    "* Data for time spent on the new landing page appears to follow a normal distribution.\n",
    "* Average time spent on the new landing page is higher than on the old landing page."
   ]
  },
  {
   "cell_type": "markdown",
   "id": "57c1c0c0",
   "metadata": {},
   "source": [
    "### Observations on Time spent on the page vs Different group users \n",
    "\n"
   ]
  },
  {
   "cell_type": "code",
   "execution_count": 32,
   "id": "58e9a1d0",
   "metadata": {
    "id": "58e9a1d0",
    "scrolled": true
   },
   "outputs": [
    {
     "data": {
      "image/png": "[encoded data removed]",
      "text/plain": [
       "<Figure size 648x648 with 1 Axes>"
      ]
     },
     "metadata": {
      "needs_background": "light"
     },
     "output_type": "display_data"
    }
   ],
   "source": [
    "#histplot\n",
    "plt.figure(figsize=(9, 9))\n",
    "sns.histplot(data = df, x = 'time_spent_on_the_page', hue = 'group')\n",
    "plt.show()"
   ]
  },
  {
   "cell_type": "markdown",
   "id": "fd4a43ed",
   "metadata": {},
   "source": [
    "#### Observations: \n",
    "* This graph represents 2 type of groups, control and treatment."
   ]
  },
  {
   "cell_type": "markdown",
   "id": "7a5a0658",
   "metadata": {},
   "source": [
    "### Observations on Time spent on the page vs Converted users "
   ]
  },
  {
   "cell_type": "code",
   "execution_count": 33,
   "id": "3dc89705",
   "metadata": {},
   "outputs": [
    {
     "data": {
      "image/png": "[encoded data removed]",
      "text/plain": [
       "<Figure size 648x648 with 1 Axes>"
      ]
     },
     "metadata": {
      "needs_background": "light"
     },
     "output_type": "display_data"
    }
   ],
   "source": [
    "# histplot\n",
    "plt.figure(figsize=(9, 9))\n",
    "sns.histplot(data = df, x = 'time_spent_on_the_page', hue = 'converted')\n",
    "plt.show()"
   ]
  },
  {
   "cell_type": "markdown",
   "id": "0265a91c",
   "metadata": {},
   "source": [
    "#### Observations: \n",
    "* There graph represents whether the user gets converted to a subscriber of the news portal or not."
   ]
  },
  {
   "cell_type": "markdown",
   "id": "a9b6f353",
   "metadata": {},
   "source": [
    "### Observations on Time spent on the page vs Language chosen by users \n"
   ]
  },
  {
   "cell_type": "code",
   "execution_count": 34,
   "id": "4fb8e0ea",
   "metadata": {},
   "outputs": [
    {
     "data": {
      "image/png": "[encoded data removed]",
      "text/plain": [
       "<Figure size 648x648 with 1 Axes>"
      ]
     },
     "metadata": {
      "needs_background": "light"
     },
     "output_type": "display_data"
    }
   ],
   "source": [
    "#histplot\n",
    "plt.figure(figsize=(9, 9))\n",
    "sns.histplot(data = df, x = 'time_spent_on_the_page', hue = 'language_preferred')\n",
    "plt.show()"
   ]
  },
  {
   "cell_type": "markdown",
   "id": "ec139979",
   "metadata": {},
   "source": [
    "#### Observations: \n",
    "* Prefered users are French, Spanish and English."
   ]
  },
  {
   "cell_type": "markdown",
   "id": "27906576",
   "metadata": {
    "id": "27906576"
   },
   "source": [
    "## 2. Do the users spend more time on the new landing page than the existing landing page? (10 Marks)"
   ]
  },
  {
   "cell_type": "markdown",
   "id": "e5fdf0c8",
   "metadata": {
    "id": "e5fdf0c8"
   },
   "source": [
    "### Perform Visual Analysis"
   ]
  },
  {
   "cell_type": "code",
   "execution_count": 35,
   "id": "9cb2ffe5",
   "metadata": {},
   "outputs": [
    {
     "data": {
      "image/png": "[encoded data removed]",
      "text/plain": [
       "<Figure size 576x432 with 1 Axes>"
      ]
     },
     "metadata": {
      "needs_background": "light"
     },
     "output_type": "display_data"
    }
   ],
   "source": [
    "# visual analysis of the time spent on the new page and the time spent on the old page\n",
    "plt.figure(figsize=(8,6))\n",
    "sns.boxplot(x = 'landing_page', y = 'time_spent_on_the_page', data = df)\n",
    "plt.show()\n"
   ]
  },
  {
   "cell_type": "markdown",
   "id": "56b3dafd",
   "metadata": {
    "id": "56b3dafd"
   },
   "source": [
    "### Step 1: Define the null and alternate hypotheses"
   ]
  },
  {
   "cell_type": "markdown",
   "id": "d2ac77ef",
   "metadata": {
    "id": "d2ac77ef"
   },
   "source": [
    "**Null Hypothesis: H0:** The mean time spent by user on the new landing page is same as the mean time spent on old landing page.\n",
    "\n",
    "**Alternate hypothesis: Ha:** The mean time spent by user on the new landing page is higher than the  mean time spent on old landing page.\n",
    "\n",
    "Let µ1 and µ2 be the mean time spent by user on the new and old landing pages respectively.\n",
    "\n",
    "We will test the null hypothesis\n",
    "\n",
    "**H0: µ1=µ2**\n",
    "\n",
    "against the alternate hypothesis\n",
    "\n",
    "**Ha: µ1>µ2**"
   ]
  },
  {
   "cell_type": "markdown",
   "id": "c7ee4907",
   "metadata": {
    "id": "c7ee4907"
   },
   "source": [
    "### Step 2: Select Appropriate test"
   ]
  },
  {
   "cell_type": "markdown",
   "id": "2c183cd7",
   "metadata": {
    "id": "2c183cd7"
   },
   "source": [
    "#### Observations:\n",
    "\n",
    "* Continuous data -  Yes, the time spent is measured on continuous scale.\n",
    "* Normally distributed populations - Yes, randomly selected samples with sample sizes of 50(it is greeater than 30),normal distribution assumption holds.\n",
    "* Independent populations - As we are taking random samples for two different type of users, the two samples are from two independent populations.\n",
    "* Population standard deviations are  unknown.\n",
    "* Random sampling from the population - Yes, we are informed that the collected sample a simple random sample.\n",
    "\n",
    "**Based on this information, we will using 2 Sample (Independent)  test for comparing means(unknown  Var):T-Test**."
   ]
  },
  {
   "cell_type": "markdown",
   "id": "3f58c9a7",
   "metadata": {
    "id": "3f58c9a7"
   },
   "source": [
    "### Step 3: Decide the significance level"
   ]
  },
  {
   "cell_type": "markdown",
   "id": "92d7d7ee",
   "metadata": {
    "id": "92d7d7ee"
   },
   "source": [
    "Its given in the problem statement, so select α = 0.05."
   ]
  },
  {
   "cell_type": "markdown",
   "id": "5fed2eac",
   "metadata": {
    "id": "5fed2eac"
   },
   "source": [
    "### Step 4: Collect and prepare data"
   ]
  },
  {
   "cell_type": "code",
   "execution_count": 36,
   "id": "d79bd332",
   "metadata": {},
   "outputs": [
    {
     "name": "stdout",
     "output_type": "stream",
     "text": [
      "The mean time spent on the new page is:  6.22\n",
      "The mean time spent on the old page is:  4.53\n",
      "The standard deviation of the time spent on the new page is:  1.82\n",
      "The standard deviation of the time spent on the old page is:  2.58\n"
     ]
    }
   ],
   "source": [
    "µ1=df_new[\"time_spent_on_the_page\"].mean()\n",
    "print('The mean time spent on the new page is: ',round(µ1,2))\n",
    "µ2=df_old[\"time_spent_on_the_page\"].mean()\n",
    "print('The mean time spent on the old page is: ',round(µ2,2))\n",
    "std1=df_new[\"time_spent_on_the_page\"].std()\n",
    "print('The standard deviation of the time spent on the new page is: ',round(std1,2))\n",
    "std2=df_old[\"time_spent_on_the_page\"].std()\n",
    "print('The standard deviation of the time spent on the old page is: ',round(std2,2))"
   ]
  },
  {
   "cell_type": "markdown",
   "id": "cfdf2cc7",
   "metadata": {},
   "source": [
    "#### Observations:\n",
    "* Unequal population standard deviations - As the sample standard deviations are different, the population standard deviations may be assumed to be different.\n",
    "\n",
    "\n"
   ]
  },
  {
   "cell_type": "markdown",
   "id": "40282341",
   "metadata": {},
   "source": [
    "### Insight:\n",
    "**Based on all this informations, we can confirm two independent sample T-test for equality of means-Unequal std deviations for this problem.**\n"
   ]
  },
  {
   "cell_type": "markdown",
   "id": "f5c5258d",
   "metadata": {
    "id": "f5c5258d"
   },
   "source": [
    "### Step 5: Calculate the p-value"
   ]
  },
  {
   "cell_type": "code",
   "execution_count": 37,
   "id": "fac8594a",
   "metadata": {
    "id": "fac8594a"
   },
   "outputs": [
    {
     "name": "stdout",
     "output_type": "stream",
     "text": [
      "The p-value is  0.0001392381225166549\n"
     ]
    }
   ],
   "source": [
    "#import the required functions\n",
    "from scipy.stats import ttest_ind\n",
    "\n",
    "# find the p_value\n",
    "test_stat, p_value = ttest_ind(df_new[\"time_spent_on_the_page\"],df_old[\"time_spent_on_the_page\"], equal_var = False, alternative = 'greater')\n",
    "print('The p-value is ', p_value)"
   ]
  },
  {
   "cell_type": "markdown",
   "id": "7e6441db",
   "metadata": {},
   "source": [
    "#### Observations:\n",
    "Calculated P-value is 0.0001."
   ]
  },
  {
   "cell_type": "markdown",
   "id": "359b12f8",
   "metadata": {
    "id": "359b12f8"
   },
   "source": [
    "### Step 6: Compare the p-value with $\\alpha$"
   ]
  },
  {
   "cell_type": "markdown",
   "id": "722135af",
   "metadata": {
    "id": "7be47289"
   },
   "source": [
    "#### Observations:\n",
    "As the p-value (~ 0.00014) is much less than the level of significance(.05), the null hypothesis can be rejected. "
   ]
  },
  {
   "cell_type": "markdown",
   "id": "d9affc84",
   "metadata": {
    "id": "d9affc84"
   },
   "source": [
    "### Step 7:  Draw inference"
   ]
  },
  {
   "cell_type": "markdown",
   "id": "6b16dd4b",
   "metadata": {
    "id": "6b16dd4b"
   },
   "source": [
    "### Insight:\n",
    "**Thus, it may be concluded that there is enough statistical evidence to conclude that mean time spent by user on the new landing page is higher than the  mean time spent on old landing page.**"
   ]
  },
  {
   "cell_type": "markdown",
   "id": "353e9d24",
   "metadata": {
    "id": "353e9d24"
   },
   "source": [
    "## 3. Is the conversion rate (the proportion of users who visit the landing page and get converted) for the new page greater than the conversion rate for the old page? (10 Marks)"
   ]
  },
  {
   "cell_type": "markdown",
   "id": "76aa6a06",
   "metadata": {},
   "source": [
    "### Perform Visual Analysis"
   ]
  },
  {
   "cell_type": "code",
   "execution_count": 38,
   "id": "6816f990",
   "metadata": {},
   "outputs": [
    {
     "data": {
      "image/png": "[encoded data removed]",
      "text/plain": [
       "<Figure size 288x288 with 1 Axes>"
      ]
     },
     "metadata": {
      "needs_background": "light"
     },
     "output_type": "display_data"
    }
   ],
   "source": [
    "plt.figure(figsize=(4, 4))\n",
    "\n",
    "sns.countplot(data = df, x ='converted',hue=\"landing_page\");\n",
    "plt.show()"
   ]
  },
  {
   "cell_type": "markdown",
   "id": "1ed7b0bb",
   "metadata": {},
   "source": [
    "#### Observations:\n",
    "* Conversion rate is higher for new landing page than old landing page."
   ]
  },
  {
   "cell_type": "markdown",
   "id": "2f1609db",
   "metadata": {},
   "source": [
    "\n"
   ]
  },
  {
   "cell_type": "markdown",
   "id": "0560fd99",
   "metadata": {
    "id": "b7f52898"
   },
   "source": [
    "### Step 1: Define the null and alternate hypotheses"
   ]
  },
  {
   "cell_type": "markdown",
   "id": "05ac347b",
   "metadata": {},
   "source": [
    "**Null Hypothesis: H0:** The conversion rate (the proportion of users who visit the landing page and get converted) for the new page greater than the conversion rate for the old page\n",
    "\n",
    "**Alternate hypothesis: Ha:** The conversion rate (the proportion of users who visit the landing page and get converted) for the new page greater than the conversion rate for the old page\n",
    "\n",
    "Let p1 and p2 be the conversion rate for the new page and the old page respectively.\n",
    "\n",
    "We will test the null hypothesis\n",
    "\n",
    "**H0: p1=p2**\n",
    "\n",
    "against the alternate hypothesis\n",
    "\n",
    "**Ha: p1>p2**"
   ]
  },
  {
   "cell_type": "markdown",
   "id": "19db62e9",
   "metadata": {},
   "source": [
    "### Step 2: Select Appropriate test"
   ]
  },
  {
   "cell_type": "markdown",
   "id": "a056d094",
   "metadata": {},
   "source": [
    "#### Observations:\n",
    "* Binomally distributed population - Yes, converted column represents whether the user gets converted to a subscriber (yes) or not.\n",
    "* Random sampling from the population - Yes, we are informed that the collected sample a simple random sample.\n",
    "\n",
    "* Can the binomial distribution approximated to normal distribution - Yes. For binary data, CLT works slower than usual. The standard thing is to check whether np and n(1-p) are greater than or equal to 10. Here, n and p refer to the sample size and sample proportion respectively.\n",
    "\n",
    "\n",
    "\n",
    "**Based on this information, we can use proportion Z -test**."
   ]
  },
  {
   "cell_type": "markdown",
   "id": "604cb96e",
   "metadata": {},
   "source": [
    "### Step 3: Decide the significance level"
   ]
  },
  {
   "cell_type": "markdown",
   "id": "7bbf6c64",
   "metadata": {},
   "source": [
    "As given in the problem statement, we select α = 0.05."
   ]
  },
  {
   "cell_type": "markdown",
   "id": "5a9a6f49",
   "metadata": {},
   "source": [
    "### Step 4: Collect and prepare data"
   ]
  },
  {
   "cell_type": "code",
   "execution_count": 39,
   "id": "286f3089",
   "metadata": {},
   "outputs": [
    {
     "name": "stdout",
     "output_type": "stream",
     "text": [
      "The conversion rates for new landing page  is: 0.66\n"
     ]
    }
   ],
   "source": [
    "new_converted = float(df_new[df[\"converted\"]==\"yes\"].count()[\"group\"])\n",
    "p1 = float(round(new_converted/50, 2))\n",
    "old_converted = float(df_old[df[\"converted\"]==\"yes\"].count()[\"group\"])\n",
    "p2 = float(round(old_converted/50, 2))\n",
    "\n",
    "print(\"The conversion rates for new landing page  is:\", p1 )"
   ]
  },
  {
   "cell_type": "markdown",
   "id": "1f1129ed",
   "metadata": {},
   "source": [
    "#### Observations: \n",
    "* Conversion rate of new landing page is 0.66."
   ]
  },
  {
   "cell_type": "code",
   "execution_count": 40,
   "id": "698153bf",
   "metadata": {},
   "outputs": [
    {
     "name": "stdout",
     "output_type": "stream",
     "text": [
      "The conversion rates for new landing page  is: 0.42\n"
     ]
    }
   ],
   "source": [
    "new_converted = float(df_new[df[\"converted\"]==\"yes\"].count()[\"group\"])\n",
    "p1 = float(round(new_converted/50, 2))\n",
    "old_converted = float(df_old[df[\"converted\"]==\"yes\"].count()[\"group\"])\n",
    "p2 = float(round(old_converted/50, 2))\n",
    "print(\"The conversion rates for new landing page  is:\", p2 )"
   ]
  },
  {
   "cell_type": "markdown",
   "id": "5b5ce3cf",
   "metadata": {},
   "source": [
    "#### Observations:\n",
    "* Conversion rate of old landing page is 0.42.\n"
   ]
  },
  {
   "cell_type": "markdown",
   "id": "dc60f6a2",
   "metadata": {},
   "source": [
    "### Step 5: Calculate the p-value"
   ]
  },
  {
   "cell_type": "code",
   "execution_count": 41,
   "id": "d49208c4",
   "metadata": {},
   "outputs": [
    {
     "name": "stdout",
     "output_type": "stream",
     "text": [
      "The p-value is0.008026308204056278\n"
     ]
    }
   ],
   "source": [
    "# import the required fuction\n",
    "from statsmodels.stats.proportion import proportions_ztest\n",
    "\n",
    "# find the p-value\n",
    "stat, p_value = proportions_ztest([new_converted,old_converted],[50,50],alternative = 'larger')  \n",
    "\n",
    "print('The p-value is'+ str(p_value))"
   ]
  },
  {
   "cell_type": "markdown",
   "id": "a10ac720",
   "metadata": {},
   "source": [
    "### Step 6: Compare the p-value with  𝛼\n",
    "\n",
    " "
   ]
  },
  {
   "cell_type": "markdown",
   "id": "3ecadfe7",
   "metadata": {},
   "source": [
    "#### Observations:\n",
    "* As the p-value (~ 0.008) is much less than the level of significance(0.05), the null hypothesis can be rejected. "
   ]
  },
  {
   "cell_type": "markdown",
   "id": "f523a155",
   "metadata": {},
   "source": [
    "### Step 7:  Draw inference\n",
    "### Insight:\n",
    "**Since the p-value (~0.008) is less than the level of significance, we can reject the null hypothesis. We do have enough evidence to support the claim that the conversion rate for the new landing page greater than the conversion rate for the old page.**"
   ]
  },
  {
   "cell_type": "markdown",
   "id": "d49bfa2d",
   "metadata": {
    "id": "d49bfa2d"
   },
   "source": [
    "## 4. Is the conversion and preferred language are independent or related? (10 Marks)"
   ]
  },
  {
   "cell_type": "markdown",
   "id": "a7775000",
   "metadata": {},
   "source": [
    "### Perform Visual Analysis"
   ]
  },
  {
   "cell_type": "code",
   "execution_count": 42,
   "id": "4468463b",
   "metadata": {},
   "outputs": [
    {
     "data": {
      "image/png": "[encoded data removed]",
      "text/plain": [
       "<Figure size 288x288 with 1 Axes>"
      ]
     },
     "metadata": {
      "needs_background": "light"
     },
     "output_type": "display_data"
    }
   ],
   "source": [
    "plt.figure(figsize=(4, 4))\n",
    "\n",
    "sns.countplot(data = df.sort_values('language_preferred'), x ='language_preferred',hue= \"converted\");\n",
    "plt.show()"
   ]
  },
  {
   "cell_type": "markdown",
   "id": "38d8ee85",
   "metadata": {},
   "source": [
    "### Step 1: Define the null and alternate hypotheses"
   ]
  },
  {
   "cell_type": "markdown",
   "id": "b7abbadc",
   "metadata": {},
   "source": [
    "**Null Hypothesis: H0:** Converted status is independent of the preferred language.\n",
    "\n",
    "**Alternate hypothesis: Ha:** Alternate Hypothesis - Converted status is dependent on the preferred language.\n"
   ]
  },
  {
   "cell_type": "markdown",
   "id": "b443eb5c",
   "metadata": {},
   "source": [
    "### Step 2: Select Appropriate test"
   ]
  },
  {
   "cell_type": "markdown",
   "id": "97f103c3",
   "metadata": {},
   "source": [
    "#### Observations:\n",
    "* Variables are categorical.\n",
    "* Random sampling from the population - Yes, we are informed that the collected sample a simple random sample.\n",
    "\n",
    "**Based on this information, we can use Chi-Square Test for Independence**."
   ]
  },
  {
   "cell_type": "markdown",
   "id": "ffa1560a",
   "metadata": {},
   "source": [
    "### Step 3: Decide the significance level"
   ]
  },
  {
   "cell_type": "markdown",
   "id": "bedb7450",
   "metadata": {},
   "source": [
    "As given in the problem statement, we select α = 0.05."
   ]
  },
  {
   "cell_type": "markdown",
   "id": "4e38a1e0",
   "metadata": {},
   "source": [
    "### Step 4: Collect and prepare data"
   ]
  },
  {
   "cell_type": "code",
   "execution_count": 43,
   "id": "d5293e43",
   "metadata": {},
   "outputs": [
    {
     "data": {
      "text/html": [
       "<div>\n",
       "<style scoped>\n",
       "    .dataframe tbody tr th:only-of-type {\n",
       "        vertical-align: middle;\n",
       "    }\n",
       "\n",
       "    .dataframe tbody tr th {\n",
       "        vertical-align: top;\n",
       "    }\n",
       "\n",
       "    .dataframe thead th {\n",
       "        text-align: right;\n",
       "    }\n",
       "</style>\n",
       "<table border=\"1\" class=\"dataframe\">\n",
       "  <thead>\n",
       "    <tr style=\"text-align: right;\">\n",
       "      <th></th>\n",
       "      <th>English</th>\n",
       "      <th>French</th>\n",
       "      <th>Spanish</th>\n",
       "    </tr>\n",
       "    <tr>\n",
       "      <th>converted</th>\n",
       "      <th></th>\n",
       "      <th></th>\n",
       "      <th></th>\n",
       "    </tr>\n",
       "  </thead>\n",
       "  <tbody>\n",
       "    <tr>\n",
       "      <th>no</th>\n",
       "      <td>11</td>\n",
       "      <td>19</td>\n",
       "      <td>16</td>\n",
       "    </tr>\n",
       "    <tr>\n",
       "      <th>yes</th>\n",
       "      <td>21</td>\n",
       "      <td>15</td>\n",
       "      <td>18</td>\n",
       "    </tr>\n",
       "  </tbody>\n",
       "</table>\n",
       "</div>"
      ],
      "text/plain": [
       "           English  French  Spanish\n",
       "converted                          \n",
       "no              11      19       16\n",
       "yes             21      15       18"
      ]
     },
     "execution_count": 43,
     "metadata": {},
     "output_type": "execute_result"
    }
   ],
   "source": [
    "\n",
    "language_converted = pd.crosstab(df.converted,df.language_preferred).rename_axis(None,axis=1)\n",
    "language_converted\n"
   ]
  },
  {
   "cell_type": "markdown",
   "id": "cab78ee0",
   "metadata": {},
   "source": [
    "#### Observations:\n",
    "* Expected value of the number of sample observations in each level of the variable is at least 5 - Yes, the number of observations in each level is greater than 5.\n",
    "* Random sampling from the population - Yes, we are informed that the collected sample is a simple random sample.\n"
   ]
  },
  {
   "cell_type": "markdown",
   "id": "11c0982a",
   "metadata": {},
   "source": [
    "### Step 5: Calculate the p-value"
   ]
  },
  {
   "cell_type": "code",
   "execution_count": 44,
   "id": "07ca38fe",
   "metadata": {},
   "outputs": [
    {
     "name": "stdout",
     "output_type": "stream",
     "text": [
      "The p-value is 0.21298887487543447\n"
     ]
    }
   ],
   "source": [
    "# import the required function\n",
    "from scipy.stats import chi2_contingency\n",
    "\n",
    "# find the p-value\n",
    "chi, p_value, dof, expected = chi2_contingency(language_converted)\n",
    "print('The p-value is', p_value)"
   ]
  },
  {
   "cell_type": "markdown",
   "id": "69773375",
   "metadata": {},
   "source": [
    "#### Observations:\n",
    "* Expected value of the number of sample observations in each level of the variable is at least 5 - Yes, the number of observations in each level is greater than 5.\n",
    "* Random sampling from the population - Yes, we are informed that the collected sample is a simple random sample.\n"
   ]
  },
  {
   "cell_type": "markdown",
   "id": "0caa76bb",
   "metadata": {},
   "source": [
    "### Step 6: Compare the p-value with  𝛼"
   ]
  },
  {
   "cell_type": "markdown",
   "id": "8bf54921",
   "metadata": {},
   "source": [
    "#### Observations:\n",
    "* As the p-value (~ 0.21) is much more than the level of significance(0.05), the null hypothesis cannot be rejected. "
   ]
  },
  {
   "cell_type": "markdown",
   "id": "5d9751db",
   "metadata": {},
   "source": [
    "### Step 7:  Draw inference\n",
    "### Insight:\n",
    "**Since the p-value (~0.021) is more than the level of significance, we cannot reject the null hypothesis. We do not have enough evidence to support the claim that the conversion rate conversion rate is dependent on the preferred language.**"
   ]
  },
  {
   "cell_type": "markdown",
   "id": "8d585a90",
   "metadata": {
    "id": "8d585a90"
   },
   "source": [
    "## 5. Is the time spent on the new page same for the different language users? (10 Marks)"
   ]
  },
  {
   "cell_type": "markdown",
   "id": "a3cd5a49",
   "metadata": {},
   "source": [
    "### Perform Visual Analysis"
   ]
  },
  {
   "cell_type": "code",
   "execution_count": 45,
   "id": "f9d23052",
   "metadata": {},
   "outputs": [
    {
     "data": {
      "image/png": "[encoded data removed]",
      "text/plain": [
       "<Figure size 720x432 with 1 Axes>"
      ]
     },
     "metadata": {
      "needs_background": "light"
     },
     "output_type": "display_data"
    },
    {
     "data": {
      "image/png": "[encoded data removed]",
      "text/plain": [
       "<Figure size 432x288 with 1 Axes>"
      ]
     },
     "metadata": {
      "needs_background": "light"
     },
     "output_type": "display_data"
    }
   ],
   "source": [
    "#  code to visually plot the time spent on the new page for different language users\n",
    "fig,ax = plt.subplots(figsize=(10,6\n",
    "                              ))\n",
    "sns.stripplot(data = df.sort_values('language_preferred'), x ='language_preferred',y=\"time_spent_on_the_page\",hue= \"landing_page\");\n",
    "plt.show()\n",
    "sns.boxplot(data = df.sort_values('language_preferred'), x ='language_preferred',y=\"time_spent_on_the_page\",hue= \"landing_page\");\n",
    "plt.show()"
   ]
  },
  {
   "cell_type": "markdown",
   "id": "269a0da7",
   "metadata": {},
   "source": [
    "#### Observations:\n",
    "* Irrespective of language, the  mean time spent on the new landing page is more than old landing page for all users."
   ]
  },
  {
   "cell_type": "markdown",
   "id": "e015b5b8",
   "metadata": {},
   "source": [
    "### Mean time spent on the new page for different language users"
   ]
  },
  {
   "cell_type": "code",
   "execution_count": 46,
   "id": "d608a0fb",
   "metadata": {},
   "outputs": [
    {
     "name": "stdout",
     "output_type": "stream",
     "text": [
      "language_preferred\n",
      "English    6.663750\n",
      "French     6.196471\n",
      "Spanish    5.835294\n",
      "Name: time_spent_on_the_page, dtype: float64\n"
     ]
    }
   ],
   "source": [
    "#code to calculate the mean time spent on the new page for different language users\n",
    "print(df_new.groupby(\"language_preferred\").mean()[\"time_spent_on_the_page\"])"
   ]
  },
  {
   "cell_type": "markdown",
   "id": "14da1d05",
   "metadata": {},
   "source": [
    "#### Observations:\n",
    "* Irrespective of language, the  mean time spent on the new landing page is more than old landing page for all users.\n",
    "* Avg time spent on the new landing page by preferred language: English(6.6 min), French (6.19min), Spanish (5.83min).\n"
   ]
  },
  {
   "cell_type": "markdown",
   "id": "2020be46",
   "metadata": {},
   "source": [
    "### Define the null and alternate hypotheses"
   ]
  },
  {
   "cell_type": "markdown",
   "id": "543d96a8",
   "metadata": {
    "id": "b422f395"
   },
   "source": [
    "**Null Hypothesis: H0:** The mean time spent on new page by user on different languages are same.\n",
    "\n",
    "**Alternate hypothesis: Ha:** The mean time spent on new page by user on one of the different languages are different.\n",
    "\n",
    "Let µ1, µ2 and µ3 be the mean time spent by user on different languages respectively.\n",
    "\n",
    "We will test the null hypothesis\n",
    "\n",
    "**H0: µ1 = µ2 = µ3**\n",
    "\n",
    "against the alternate hypothesis\n",
    "\n",
    "**Ha: one of µ1,µ2,µ3 is different**\n",
    "\n"
   ]
  },
  {
   "cell_type": "markdown",
   "id": "77bdc5cd",
   "metadata": {},
   "source": [
    "###  Select Appropriate test"
   ]
  },
  {
   "cell_type": "markdown",
   "id": "0576aea8",
   "metadata": {},
   "source": [
    "#### Observations:\n",
    "\n",
    "Now, the normality and equality of variance assumptions need to be checked.\n",
    "* For testing normality, Shapiro-Wilki's test is applied to response variable.\n",
    "* For equality of variance, Levene test is applied to the response variable.\n"
   ]
  },
  {
   "cell_type": "markdown",
   "id": "aed05fcd",
   "metadata": {},
   "source": [
    "### Shapiro-Wilk’s test\n",
    "### Step 1: Define the null and alternate hypotheses\n",
    "\n",
    "**Null Hypothesis: H0:** Time spent on the new landing page follows normal distribution.\n",
    "\n",
    "**Alternate hypothesis: Ha:** Time spent on the new landing page doen't follow a normal distribution.\n"
   ]
  },
  {
   "cell_type": "markdown",
   "id": "5826f4d7",
   "metadata": {},
   "source": [
    "### Step2: Decide the significance level"
   ]
  },
  {
   "cell_type": "markdown",
   "id": "3e5e0ace",
   "metadata": {},
   "source": [
    "Its given in the problem statement, so select α = 0.05."
   ]
  },
  {
   "cell_type": "markdown",
   "id": "baf9c6c1",
   "metadata": {},
   "source": [
    "### Step 3: Calculate the p-value"
   ]
  },
  {
   "cell_type": "code",
   "execution_count": 47,
   "id": "42026bb6",
   "metadata": {},
   "outputs": [
    {
     "name": "stdout",
     "output_type": "stream",
     "text": [
      "The p-value is 0.8040016293525696\n"
     ]
    }
   ],
   "source": [
    "# Assumption 1: Normality\n",
    "# import the required function\n",
    "from scipy.stats import shapiro\n",
    "\n",
    "# find the p-value\n",
    "w, p_value = stats.shapiro(df_new['time_spent_on_the_page']) \n",
    "print('The p-value is', p_value)"
   ]
  },
  {
   "cell_type": "markdown",
   "id": "7386b479",
   "metadata": {},
   "source": [
    "#### Observation:\n",
    "\n",
    "* P - value is ~0.8."
   ]
  },
  {
   "cell_type": "markdown",
   "id": "cd25dd3f",
   "metadata": {},
   "source": [
    "### Step 4: Compare the p-value with  𝛼"
   ]
  },
  {
   "cell_type": "markdown",
   "id": "5823e177",
   "metadata": {},
   "source": [
    "#### Observation:\n",
    "\n",
    "* P - value (~0.8)  is larger than level of significance (.05), hence we fail to reject the null hypothesis.\n",
    "\n"
   ]
  },
  {
   "cell_type": "markdown",
   "id": "b83a87d7",
   "metadata": {},
   "source": [
    "### Step 5:  Draw inference\n",
    "### Insight:\n",
    "**Since the p-value is higher than the level of significance, we cannot reject the null hypothesis that the response follows the normal distribution.**"
   ]
  },
  {
   "cell_type": "markdown",
   "id": "6e1f0857",
   "metadata": {},
   "source": [
    "### Levene’s test"
   ]
  },
  {
   "cell_type": "markdown",
   "id": "d3d68db0",
   "metadata": {},
   "source": [
    "\n",
    "### Step 1: Define the null and alternate hypotheses\n",
    "\n",
    "**Null Hypothesis: H0:** All the population variances are equal\n",
    "\n",
    "**Alternate hypothesis: Ha:** At least one variance is different from the rest."
   ]
  },
  {
   "cell_type": "markdown",
   "id": "6f1cb395",
   "metadata": {},
   "source": [
    "### Step 2: Select Appropriate test"
   ]
  },
  {
   "cell_type": "markdown",
   "id": "ac0f079b",
   "metadata": {},
   "source": [
    "#### Observations:\n",
    "* To check that variances are equal for all samples when your data comes from a non normal distribution."
   ]
  },
  {
   "cell_type": "markdown",
   "id": "696745ed",
   "metadata": {},
   "source": [
    "### Step3: Decide the significance level"
   ]
  },
  {
   "cell_type": "markdown",
   "id": "1142dc1b",
   "metadata": {},
   "source": [
    "Its given in the problem statement, so select α = 0.05."
   ]
  },
  {
   "cell_type": "markdown",
   "id": "164d62ac",
   "metadata": {},
   "source": [
    "### Step 4: Calculate the p-value"
   ]
  },
  {
   "cell_type": "code",
   "execution_count": 48,
   "id": "cb5efb89",
   "metadata": {},
   "outputs": [],
   "source": [
    "# create subsetted data frame for new time spent\n",
    "time_spent_new = df[df['landing_page'] == 'new']['time_spent_on_the_page']\n",
    "# create subsetted data frame for old time spent\n",
    "time_spent_old = df[df['landing_page'] == 'old']['time_spent_on_the_page']"
   ]
  },
  {
   "cell_type": "code",
   "execution_count": 49,
   "id": "005958b2",
   "metadata": {},
   "outputs": [
    {
     "name": "stdout",
     "output_type": "stream",
     "text": [
      "The p-value is 0.46711357711340173\n"
     ]
    }
   ],
   "source": [
    "\n",
    "\n",
    "#Assumption 2: Homogeneity of Variance\n",
    "#import the required function\n",
    "from scipy.stats import levene\n",
    "statistic, p_value = levene( df_new[\"time_spent_on_the_page\"][df_new['language_preferred']==\"Spanish\"], \n",
    "                                   df_new[\"time_spent_on_the_page\"][df_new['language_preferred']==\"English\"], \n",
    "                                 df_new[\"time_spent_on_the_page\"][df_new['language_preferred']==\"French\"])\n",
    "# find the p-value\n",
    "print('The p-value is', p_value)"
   ]
  },
  {
   "cell_type": "markdown",
   "id": "73ad960f",
   "metadata": {},
   "source": [
    "### Step 5: Compare the p-value with $\\alpha$\n",
    "\n",
    "#### Observations:\n",
    "P - value (~.47) is more than significance level, we fail to reject the null hypothesis of homogenity of variance.\n",
    "\n",
    "### Let's test whether the assumptions are satisfied or not\n",
    "\n",
    "* The populations are normally distributed - Yes, the normality assumption is verified using the Shapiro-Wilk’s test.\n",
    "* Samples are independent simple random samples - Yes, we are informed that the collected sample is a simple random sample.\n",
    "* Population variances are equal - Yes, the homogeneity of variance assumption is verified using the Levene's test.\n",
    "\n"
   ]
  },
  {
   "cell_type": "markdown",
   "id": "a67d08a1",
   "metadata": {},
   "source": [
    "\n",
    "### Step 1: Define the null and alternate hypotheses\n",
    "\n",
    "**Null Hypothesis: H0:** All the population variances are equal\n",
    "\n",
    "**Alternate hypothesis: Ha:** At least one variance is different from the rest."
   ]
  },
  {
   "cell_type": "markdown",
   "id": "00997dbb",
   "metadata": {},
   "source": [
    "### Step 2: Select Appropriate test"
   ]
  },
  {
   "cell_type": "markdown",
   "id": "bd00469e",
   "metadata": {},
   "source": [
    "#### Observations:\n",
    "* To analyse the variance we use One-way ANOVA Test."
   ]
  },
  {
   "cell_type": "markdown",
   "id": "8fd15891",
   "metadata": {},
   "source": [
    "### Step 3: Decide the significance level"
   ]
  },
  {
   "cell_type": "markdown",
   "id": "e2c7dde9",
   "metadata": {},
   "source": [
    "Its given in the problem statement, so select α = 0.05."
   ]
  },
  {
   "cell_type": "markdown",
   "id": "7cfc7fbf",
   "metadata": {},
   "source": [
    "### Step 4: Collect and prepare data"
   ]
  },
  {
   "cell_type": "code",
   "execution_count": 52,
   "id": "4732a253",
   "metadata": {},
   "outputs": [],
   "source": [
    "# create a subsetted data frame of the time spent on the new page by English language users \n",
    "time_spent_English = df_new[df_new['language_preferred']==\"English\"]['time_spent_on_the_page']\n",
    "# create subsetted data frames of the time spent on the new page by French and Spanish language users\n",
    "time_spent_French =   df_new[df_new['language_preferred']==\"French\"]['time_spent_on_the_page']\n",
    "time_spent_Spanish =    df_new[df_new['language_preferred']==\"Spanish\"]['time_spent_on_the_page']\n",
    "\n",
    "\n",
    "\n"
   ]
  },
  {
   "cell_type": "markdown",
   "id": "ffc64562",
   "metadata": {},
   "source": [
    "### Step 5: Calculate the p-value"
   ]
  },
  {
   "cell_type": "code",
   "execution_count": 51,
   "id": "0e8229fc",
   "metadata": {},
   "outputs": [
    {
     "name": "stdout",
     "output_type": "stream",
     "text": [
      "The p-value is 0.43204138694325955\n"
     ]
    }
   ],
   "source": [
    "from scipy.stats import f_oneway\n",
    "\n",
    "# perform one-way anova test\n",
    "test_stat, p_value = f_oneway(df_new.loc[df_new['language_preferred'] == 'English', 'time_spent_on_the_page'],\n",
    "                              df_new.loc[df_new['language_preferred'] == 'French', 'time_spent_on_the_page'],\n",
    "                              df_new.loc[df_new['language_preferred'] == 'Spanish', 'time_spent_on_the_page'])\n",
    "print('The p-value is ' + str(p_value))"
   ]
  },
  {
   "cell_type": "markdown",
   "id": "3e1009df",
   "metadata": {},
   "source": [
    "### Step 6: Compare the p-value with $\\alpha$"
   ]
  },
  {
   "cell_type": "markdown",
   "id": "6277864e",
   "metadata": {},
   "source": [
    "#### Observations:\n",
    "* As the p-value (~ 0.43) is much more than the level of significance(.05), the null hypothesis can be accepted. "
   ]
  },
  {
   "cell_type": "markdown",
   "id": "805b40c0",
   "metadata": {},
   "source": [
    "\n",
    "### Step 7:  Draw inference\n",
    "### Insight:\n",
    "**Since the p-value (~ 0.43) is much more than the level of significance(.05), so we fail to reject the null hypothesis.  We do not  have enough evidence to conclude that atleast one mean time spent on the new page same for the different language users is different from significance level.**"
   ]
  },
  {
   "cell_type": "markdown",
   "id": "3acbc947",
   "metadata": {
    "id": "3acbc947"
   },
   "source": [
    "## Conclusion and Business Recommendations"
   ]
  },
  {
   "cell_type": "markdown",
   "id": "21fb1063",
   "metadata": {
    "id": "21fb1063"
   },
   "source": [
    "## Conclusion\n",
    " \n",
    "We analyzed a dataset of 100 person visiting the website. Data contains information about user in group (control) & group (treatment).It also contain information about old and new landing page, time spent by user on pages, language prefered by users, is the user converted or not.\n",
    "\n",
    "\n",
    "* The main feature of interest here is average time spent on the new landing page is higher than on the old landing page.\n",
    "\n",
    "\n",
    "* Irrespective of language, the  mean time spent on the new landing page is more than old landing page for all users.\n",
    "\n",
    "\n",
    "* Avg time spent on the new landing page by preferred language: English(6.6 min), French (6.19min), Spanish (5.83min).\n",
    "\n",
    "* Conversion on the new landing page is more among French users  and  less for users prefering English.\n",
    "\n",
    "## Statistical Analysis\n",
    "\n",
    "* By using two independent sample T-test for equality of means-Unequal std deviations, it may be concluded that there is enough statistical evidence to conclude that mean time spent by user on the new landing page is higher than the mean time spent on old landing page.\n",
    "\n",
    "\n",
    "* By using proportion -Ztest, we do have enough evidence to support the claim that the conversion rate for the new landing page greater than the conversion rate for the old page.\n",
    "\n",
    "\n",
    "* By using Chi-Square Test for Independence, we do not have enough evidence to support the claim that the conversion rate conversion rate is dependent on the preferred language.\n",
    "\n",
    "\n",
    "* By using One-way ANOVA Test, we do not have enough evidence to conclude that atleast one mean time spent on the new page same for the different language users is different from significance level.\n",
    "\n",
    "\n",
    "## Recommendation to business\n",
    " \n",
    "*  New landing page is better in time spent by users on the page.\n",
    "\n",
    "*  New landing page is better in conversion rate.\n",
    "\n",
    "* So new landing page is better.\n",
    "\n",
    "* EDA shows that French and Spanish users had a higher conversion rate on new landing page. \n",
    "\n",
    "\n",
    " \n",
    "##  Further Analysis\n",
    " \n",
    " * We do not have enough evidence to prove that at least one mean time spent on the new landing page for diferrent preferred languages is different from the rest. So we need more data to do further investigation.\n",
    " \n",
    "\n",
    "\n"
   ]
  }
 ],
 "metadata": {
  "colab": {
   "collapsed_sections": [],
   "name": "ENews_Express_Learner_Notebook[Full Code Version].ipynb",
   "provenance": []
  },
  "kernelspec": {
   "display_name": "Python 3",
   "language": "python",
   "name": "python3"
  },
  "language_info": {
   "codemirror_mode": {
    "name": "ipython",
    "version": 3
   },
   "file_extension": ".py",
   "mimetype": "text/x-python",
   "name": "python",
   "nbconvert_exporter": "python",
   "pygments_lexer": "ipython3",
   "version": "3.8.8"
  }
 },
 "nbformat": 4,
 "nbformat_minor": 5
}
